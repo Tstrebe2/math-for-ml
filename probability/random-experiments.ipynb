{
  "cells": [
    {
      "cell_type": "markdown",
      "metadata": {
        "id": "view-in-github",
        "colab_type": "text"
      },
      "source": [
        "<a href=\"https://colab.research.google.com/github/Tstrebe2/math-for-ml/blob/main/probability/random-experiments.ipynb\" target=\"_parent\"><img src=\"https://colab.research.google.com/assets/colab-badge.svg\" alt=\"Open In Colab\"/></a>"
      ]
    },
    {
      "cell_type": "code",
      "source": [
        "import numpy as np\n",
        "import matplotlib.pyplot as plt\n",
        "%matplotlib inline"
      ],
      "metadata": {
        "id": "kRGSgJGqMSPo"
      },
      "execution_count": 130,
      "outputs": []
    },
    {
      "cell_type": "markdown",
      "source": [
        "## 1.3.1 Random Experiments\n"
      ],
      "metadata": {
        "id": "in0N6W9_MprP"
      }
    },
    {
      "cell_type": "code",
      "source": [
        "def run_coinflip_experiment(n_trials = 50):\n",
        "  # This is our sample space\n",
        "  #   0: tails\n",
        "  #   1: heads\n",
        "  sample_space = np.array([0, 1])\n",
        "  # This is the probability of the event occuring p(heads)\n",
        "  p_event = .5\n",
        "  # We will run a number of trials for our experiment and\n",
        "  # observe the distribution of successes and failure\n",
        "  trials = np.zeros(n_trials)\n",
        "\n",
        "  for i in range(n_trials):\n",
        "    # We'll run our trials using the 1-p_event for the probability of\n",
        "    # tails and p_event for heads\n",
        "    trials[i] = np.random.choice(sample_space, p=[1-p_event, p_event])\n",
        "\n",
        "  return trials\n",
        "\n",
        "def plot_single_coinflip_experiment(experiment):\n",
        "  x = np.array([0, 1])\n",
        "  n_trials = len(experiment)\n",
        "  n_heads = experiment.sum()\n",
        "  n_tails = n_trials-n_heads\n",
        "  y = np.array([n_tails/n_trials, n_heads/n_trials])\n",
        "  plt.bar(x, y)\n",
        "  plt.xticks(x, labels=['tails', 'heads'])\n",
        "  plt.ylabel('percentage', labelpad=10)\n",
        "  plt.title('Coin flip experiment - n_trials %.f' % len(experiment))\n",
        "  plt.show()\n",
        "\n",
        "experiment = run_coinflip_experiment(n_trials = 50)\n",
        "plot_single_coinflip_experiment(experiment)"
      ],
      "metadata": {
        "id": "EIhEt4xHPxC5",
        "outputId": "77e36dd7-8b23-47fd-dd2e-e25016b0cadd",
        "colab": {
          "base_uri": "https://localhost:8080/",
          "height": 281
        }
      },
      "execution_count": 153,
      "outputs": [
        {
          "output_type": "display_data",
          "data": {
            "text/plain": [
              "<Figure size 432x288 with 1 Axes>"
            ],
            "image/png": "[encoded data removed]"
          },
          "metadata": {
            "needs_background": "light"
          }
        }
      ]
    },
    {
      "cell_type": "code",
      "source": [
        "experiment = run_coinflip_experiment(n_trials = 10000)\n",
        "plot_single_coinflip_experiment(experiment)"
      ],
      "metadata": {
        "id": "W-tn7m1BW9yK",
        "outputId": "aceff48b-3fc5-47cb-ecba-51f6a38fdd11",
        "colab": {
          "base_uri": "https://localhost:8080/",
          "height": 281
        }
      },
      "execution_count": 154,
      "outputs": [
        {
          "output_type": "display_data",
          "data": {
            "text/plain": [
              "<Figure size 432x288 with 1 Axes>"
            ],
            "image/png": "[encoded data removed]"
          },
          "metadata": {
            "needs_background": "light"
          }
        }
      ]
    },
    {
      "cell_type": "code",
      "source": [
        "n_experiments = 1000\n",
        "\n",
        "def run_coinflip_experiments(n_experiments, n_trials):\n",
        "  experiments = np.zeros(n_experiments)\n",
        "  for i in range(n_experiments):\n",
        "    experiment = run_coinflip_experiment(n_trials)\n",
        "    experiments[i] = experiment.sum() / n_trials\n",
        "  return experiments\n",
        "\n",
        "experiments_50 = run_coinflip_experiments(n_experiments=n_experiments, n_trials=50)\n",
        "experiments_1000 = run_coinflip_experiments(n_experiments=n_experiments, n_trials=1000)\n",
        "# We can calculate the mean-squared error by using the sum of squares of the\n",
        "# differences of the observed probabilities from our experiments and what\n",
        "# we would expect the probability of heads would be using a fair two-sided coin (.5).\n",
        "expected_p_event = .5\n",
        "mse_50 = np.sum((experiments_50 - expected_p_event)**2) / n_experiments\n",
        "mse_1000 = np.sum((experiments_1000 - expected_p_event)**2) / n_experiments\n",
        "\n",
        "fig, (ax1, ax2) = plt.subplots(ncols=2, sharex=True, sharey=True, figsize=(6.4*2, 4.8))\n",
        "ax1.hist(experiments_50, bins=20)\n",
        "ax2.hist(experiments_1000, bins=20)\n",
        "ax1.set_xlabel('p(heads)')\n",
        "ax2.set_xlabel('p(heads)')\n",
        "ax1.set_ylabel('n experiments')\n",
        "ax1.set_title('1000 experiments with 50 trials each\\nMSE = %.8f' % mse_50)\n",
        "ax2.set_title('1000 experiments with 1000 trials each\\nMSE = %.8f' % mse_1000)\n",
        "plt.show()"
      ],
      "metadata": {
        "id": "uq8zIJpNRakx",
        "outputId": "112d3764-ac77-4b2f-8b1f-70a35a5a2625",
        "colab": {
          "base_uri": "https://localhost:8080/",
          "height": 354
        }
      },
      "execution_count": 162,
      "outputs": [
        {
          "output_type": "display_data",
          "data": {
            "text/plain": [
              "<Figure size 921.6x345.6 with 2 Axes>"
            ],
            "image/png": "[encoded data removed]"
          },
          "metadata": {
            "needs_background": "light"
          }
        }
      ]
    },
    {
      "cell_type": "markdown",
      "source": [
        "Example \n",
        "We toss a coin three times and observe the sequence of heads/tails. The sample space here may be defined as\n",
        "S={(H,H,H),(H,H,T),(H,T,H),(T,H,H),(H,T,T),(T,H,T),(T,T,H),(T,T,T)}"
      ],
      "metadata": {
        "id": "1G0OE6tzPtpZ"
      }
    },
    {
      "cell_type": "code",
      "source": [
        "# Here we will define the number of trials in our experiment\n",
        "n_trials = 50\n",
        "# We will collect our samples using a list of tuples.\n",
        "# Each tuple will be of length 3\n",
        "\n",
        "for i in range(n_trials):\n",
        "  trial = np.zeros(3)\n",
        "  for j in range(len(trial)):\n",
        "    np.random.choice(subspace, p=[1-p_event, p_event])"
      ],
      "metadata": {
        "id": "4M_5QjcVNm7j",
        "outputId": "7bc3a19e-399d-4903-f3a0-a9686aced0b7",
        "colab": {
          "base_uri": "https://localhost:8080/"
        }
      },
      "execution_count": 35,
      "outputs": [
        {
          "output_type": "execute_result",
          "data": {
            "text/plain": [
              "(1, array([0., 0., 0.]))"
            ]
          },
          "metadata": {},
          "execution_count": 35
        }
      ]
    }
  ],
  "metadata": {
    "colab": {
      "name": "Welcome To Colaboratory",
      "toc_visible": true,
      "provenance": [],
      "include_colab_link": true
    },
    "kernelspec": {
      "display_name": "Python 3",
      "name": "python3"
    }
  },
  "nbformat": 4,
  "nbformat_minor": 0
}