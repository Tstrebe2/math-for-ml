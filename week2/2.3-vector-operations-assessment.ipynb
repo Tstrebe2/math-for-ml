{
  "cells": [
    {
      "cell_type": "markdown",
      "metadata": {
        "id": "view-in-github",
        "colab_type": "text"
      },
      "source": [
        "<a href=\"https://colab.research.google.com/github/Tstrebe2/math-for-ml/blob/main/week2/2.3-vector-operations-assessment.ipynb\" target=\"_parent\"><img src=\"https://colab.research.google.com/assets/colab-badge.svg\" alt=\"Open In Colab\"/></a>"
      ]
    },
    {
      "cell_type": "code",
      "source": [
        "import numpy as np"
      ],
      "metadata": {
        "id": "iExyoFU6TB5c"
      },
      "execution_count": 2,
      "outputs": []
    },
    {
      "cell_type": "markdown",
      "source": [
        "Question 1  \n",
        "In this assessment, you will be tested on all of the different topics you have in covered this module. Good luck!\n",
        "\n",
        "A ship travels with velocity given by \\begin{bmatrix} 1 \\\\ 2 \\end{bmatrix} with current flowing in the direction given by \\begin{bmatrix} 1 \\\\ 1 \\end{bmatrix} with respect to some co-ordinate axes.\n",
        "\n",
        "What is the velocity of the ship in the direction of the current?"
      ],
      "metadata": {
        "id": "HUi_UNdPTDPP"
      }
    },
    {
      "cell_type": "code",
      "source": [
        "def mod(v):\n",
        "  return np.sqrt(np.sum(v**2))\n",
        "\n",
        "def get_vector_projection(v1, v2):\n",
        "  return v1 @ v2 / mod(v2)**2 * v2\n",
        "\n",
        "a = np.array([1, 2])\n",
        "b = np.array([1, 1])\n",
        "\n",
        "get_vector_projection(a, b)"
      ],
      "metadata": {
        "id": "iSlk4dV5TPVj",
        "outputId": "2e11e86b-9dd2-4569-c4b1-0579c1d9ca39",
        "colab": {
          "base_uri": "https://localhost:8080/"
        }
      },
      "execution_count": 4,
      "outputs": [
        {
          "output_type": "execute_result",
          "data": {
            "text/plain": [
              "array([1.5, 1.5])"
            ]
          },
          "metadata": {},
          "execution_count": 4
        }
      ]
    },
    {
      "cell_type": "markdown",
      "source": [
        "Question 2  \n",
        "A ball travels with velocity given by $$\\begin{bmatrix} 2 \\\\ 1 \\end{bmatrix}$$  \n",
        "with wind blowing in the direction given by  \n",
        "$$\\begin{bmatrix} 3 \\\\ -4 \\end{bmatrix}$$  \n",
        "with respect to some co-ordinate axes.\n",
        "\n",
        "What is the size of the velocity of the ball in the direction of the wind?"
      ],
      "metadata": {
        "id": "m_KvcgmVUavX"
      }
    },
    {
      "cell_type": "code",
      "source": [
        "def get_scalar_projection(v1, v2):\n",
        "  return v1 @ v2 / mod(v1)\n",
        "\n",
        "b = np.array([2,  1])\n",
        "w = np.array([3, -4])\n",
        "\n",
        "get_scalar_projection(w, b)"
      ],
      "metadata": {
        "id": "CM3ZYLOhUqnQ",
        "outputId": "bdd6ac85-f5f2-45e6-a1a8-dd2c1447e7df",
        "colab": {
          "base_uri": "https://localhost:8080/"
        }
      },
      "execution_count": 6,
      "outputs": [
        {
          "output_type": "execute_result",
          "data": {
            "text/plain": [
              "0.4"
            ]
          },
          "metadata": {},
          "execution_count": 6
        }
      ]
    },
    {
      "cell_type": "markdown",
      "source": [
        "Question 3  \n",
        "  Given vectors $\\mathbf{v} = \\begin{bmatrix} -4 \\\\ -3 \\\\ 8 \\end{bmatrix}$\n",
        "$\\mathbf{b_1} = \\begin{bmatrix} 1 \\\\ 2 \\\\ 3 \\end{bmatrix}$\n",
        "$\\mathbf{b_2} = \\begin{bmatrix} -2 \\\\ 1 \\\\ 0 \\end{bmatrix}$\n",
        "and\n",
        "$\\mathbf{b_3} = \\begin{bmatrix} -3 \\\\-6 \\\\ 5 \\end{bmatrix}$\n",
        "all written in the standard basis, what is $\\mathbf{v}$ in the basis defined by $\\mathbf{b_1}$, $\\mathbf{b_2}$ and $\\mathbf{b_3}$? You are given that $\\mathbf{b_1}$, $\\mathbf{b_2}$ and $\\mathbf{b_3}$ are all pairwise orthogonal to each other.  "
      ],
      "metadata": {
        "id": "l2lc-CjEVjKb"
      }
    },
    {
      "cell_type": "code",
      "source": [
        "v  = np.array([-4, -3, 8])\n",
        "\n",
        "b1 = np.array([ 1,  2, 3])\n",
        "b2 = np.array([-2,  1, 0])\n",
        "b3 = np.array([-3, -6, 5])\n",
        "\n",
        "def get_new_basis(v, basis):\n",
        "  '''\n",
        "  Obtains new basis dimension value for vector.\n",
        "  '''\n",
        "  return (basis @ v / mod(v)**2) \n",
        "\n",
        "new_b1 = get_new_basis(b1, v)\n",
        "new_b2 = get_new_basis(b2, v)\n",
        "new_b3 = get_new_basis(b3, v)\n",
        "\n",
        "print('Our new basis vector is', np.array([new_b1, new_b2, new_b3]).round(2))"
      ],
      "metadata": {
        "id": "OfXiAX91WOpT",
        "outputId": "709ea596-3b9b-48b7-a291-fcaa6d4a069b",
        "colab": {
          "base_uri": "https://localhost:8080/"
        }
      },
      "execution_count": 9,
      "outputs": [
        {
          "output_type": "stream",
          "name": "stdout",
          "text": [
            "Our new basis vector is [1. 1. 1.]\n"
          ]
        }
      ]
    },
    {
      "cell_type": "markdown",
      "source": [
        "Question 4  \n",
        "Are the following vectors linearly independent? \n",
        "\n",
        "$\\mathbf{a} = \\begin{bmatrix} 1 \\\\ 2 \\\\ -1 \\end{bmatrix}$, $\\mathbf{b} = \\begin{bmatrix} 3 \\\\ -4 \\\\ 5 \\end{bmatrix}$ and $\\mathbf{c} = \\begin{bmatrix} 1 \\\\ -8 \\\\ 7 \\end{bmatrix}$."
      ],
      "metadata": {
        "id": "G52UivsCYPYM"
      }
    },
    {
      "cell_type": "code",
      "source": [
        "a = np.array([1,  2, -1])\n",
        "b = np.array([3, -4,  5])\n",
        "c = np.array([1, -8,  7])\n",
        "\n",
        "q1 = -2\n",
        "q2 = 1\n",
        "\n",
        "# These vectors are not linearily independent.\n",
        "# Below is proof\n",
        "a * q1 + b * q2 == c"
      ],
      "metadata": {
        "id": "IIGEHaLaYOwL",
        "outputId": "0b510a21-207b-464b-c481-45a39d1a8536",
        "colab": {
          "base_uri": "https://localhost:8080/"
        }
      },
      "execution_count": 15,
      "outputs": [
        {
          "output_type": "execute_result",
          "data": {
            "text/plain": [
              "array([ True,  True,  True])"
            ]
          },
          "metadata": {},
          "execution_count": 15
        }
      ]
    },
    {
      "cell_type": "markdown",
      "source": [
        "Question 5  \n",
        "At 12:00 pm, a spaceship is at position $\\begin{bmatrix} 3 \\\\ 2 \\\\ 4\\end{bmatrix}$ km away from the origin with respect to some 3 dimensional co ordinate system. The ship is travelling with velocity $\\begin{bmatrix} -1 \\\\ 2 \\\\ -3 \\end{bmatrix}$ km/h. What is the location of the spaceship after 2 hours have passed?  "
      ],
      "metadata": {
        "id": "DSB-LfPtZaHd"
      }
    },
    {
      "cell_type": "code",
      "source": [
        "p = np.array([3,  2,  4])\n",
        "v = np.array([-1, 2, -3])\n",
        "\n",
        "print('The location of the spaceship after two hours have passed is:', p + v * 2)"
      ],
      "metadata": {
        "id": "6hy4AaR2Zj80",
        "outputId": "89f75f81-3be7-40e3-db62-40b663ca69fc",
        "colab": {
          "base_uri": "https://localhost:8080/"
        }
      },
      "execution_count": 17,
      "outputs": [
        {
          "output_type": "stream",
          "name": "stdout",
          "text": [
            "The location of the spaceship after two hours have passed is: [ 1  6 -2]\n"
          ]
        }
      ]
    }
  ],
  "metadata": {
    "colab": {
      "name": "Welcome To Colaboratory",
      "toc_visible": true,
      "provenance": [],
      "include_colab_link": true
    },
    "kernelspec": {
      "display_name": "Python 3",
      "name": "python3"
    }
  },
  "nbformat": 4,
  "nbformat_minor": 0
}