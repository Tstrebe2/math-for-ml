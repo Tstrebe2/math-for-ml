{
  "nbformat": 4,
  "nbformat_minor": 0,
  "metadata": {
    "colab": {
      "provenance": [],
      "authorship_tag": "ABX9TyNyggDCD325ozVt7C8RnxPd",
      "include_colab_link": true
    },
    "kernelspec": {
      "name": "python3",
      "display_name": "Python 3"
    },
    "language_info": {
      "name": "python"
    }
  },
  "cells": [
    {
      "cell_type": "markdown",
      "metadata": {
        "id": "view-in-github",
        "colab_type": "text"
      },
      "source": [
        "<a href=\"https://colab.research.google.com/github/Tstrebe2/math-for-ml/blob/main/week2/2.2a-changing-basis.ipynb\" target=\"_parent\"><img src=\"https://colab.research.google.com/assets/colab-badge.svg\" alt=\"Open In Colab\"/></a>"
      ]
    },
    {
      "cell_type": "code",
      "source": [
        "import numpy as np"
      ],
      "metadata": {
        "id": "XI_fdn_iA62r"
      },
      "execution_count": 1,
      "outputs": []
    },
    {
      "cell_type": "markdown",
      "source": [
        "Question 1  \n",
        "In this quiz, you will practice changing from the standard basis to a basis consisting of orthogonal vectors.  \n",
        "\n",
        "Given vectors $$\\mathbf{v} = \\begin{bmatrix} 5 \\\\ -1 \\end{bmatrix}$$ \n",
        "$$\\mathbf{b_1} = \\begin{bmatrix} 1 \\\\ 1 \\end{bmatrix}$$  \n",
        "and  \n",
        "$$\\mathbf{b_2} = \\begin{bmatrix} 1 \\\\ -1 \\end{bmatrix}$$  \n",
        "all written in the standard basis, what is **v** in the basis defined by **b1** and **b2**. You are given that **b1** and **b2** are orthogonal to each other.  "
      ],
      "metadata": {
        "id": "n_BtUT6j9k_8"
      }
    },
    {
      "cell_type": "code",
      "execution_count": 2,
      "metadata": {
        "id": "YICm27oL9OoB",
        "outputId": "459dc0db-6aea-4065-e7af-1b0125f8768a",
        "colab": {
          "base_uri": "https://localhost:8080/"
        }
      },
      "outputs": [
        {
          "output_type": "stream",
          "name": "stdout",
          "text": [
            "Our new basis vector is: [2. 3.]\n"
          ]
        }
      ],
      "source": [
        "def mod(v):\n",
        "  '''\n",
        "  Returns the length of a vector. This is sometimes referred to as the\n",
        "  modulus, mod, or magnitude as well.\n",
        "  params\n",
        "    v: a vector of type np.array\n",
        "  '''\n",
        "  return np.sqrt(np.sum(v**2))\n",
        "\n",
        "def get_new_basis(v, basis):\n",
        "  '''\n",
        "  Obtains new basis dimension value for vector.\n",
        "  '''\n",
        "  return (basis @ v / mod(v)**2) \n",
        "\n",
        "v = np.array([5, -1])\n",
        "\n",
        "b1 = np.array([1, 1])\n",
        "b2 = np.array([1, -1])\n",
        "\n",
        "new_b1 = get_new_basis(b1, v)\n",
        "new_b2 = get_new_basis(b2, v)\n",
        "\n",
        "print('Our new basis vector is:', np.array([new_b1, new_b2]).round(2))"
      ]
    },
    {
      "cell_type": "markdown",
      "source": [
        "Question 2  \n",
        "Given vectors $$\\mathbf{v} = \\begin{bmatrix} 10 \\\\ -5 \\end{bmatrix}$$\n",
        "$$\\mathbf{b_1} = \\begin{bmatrix} 3 \\\\ 4 \\end{bmatrix}$$\n",
        "and\n",
        "$$\\mathbf{b_2} = \\begin{bmatrix} 4 \\\\ -3 \\end{bmatrix}$$  \n",
        "all written in the standard basis, what is **v** in the basis defined by **b1** and **b2**. You are given that **b1** and **b2** are orthogonal to each other."
      ],
      "metadata": {
        "id": "RTxzt2agEZlv"
      }
    },
    {
      "cell_type": "code",
      "source": [
        "v = np.array([10, -5])\n",
        "\n",
        "b1 = np.array([3, 4])\n",
        "b2 = np.array([4, -3])\n",
        "\n",
        "new_b1 = get_new_basis(b1, v)\n",
        "new_b2 = get_new_basis(b2, v)\n",
        "\n",
        "print('Our basis vector is:', np.array([new_b1, new_b2]).round(2))"
      ],
      "metadata": {
        "id": "2PnPXnVqEDCQ",
        "outputId": "0cd484b2-bffb-4410-a54d-dc63fca4ea74",
        "colab": {
          "base_uri": "https://localhost:8080/"
        }
      },
      "execution_count": 3,
      "outputs": [
        {
          "output_type": "stream",
          "name": "stdout",
          "text": [
            "Our basis vector is: [0.4 2.2]\n"
          ]
        }
      ]
    },
    {
      "cell_type": "markdown",
      "source": [
        "Question 3  \n",
        "Given vectors $$\\mathbf{v} = \\begin{bmatrix} 2 \\\\ 2 \\end{bmatrix}$$  \n",
        "$$\\mathbf{b_1} = \\begin{bmatrix} -3 \\\\ 1 \\end{bmatrix}$$\n",
        "and\n",
        "$$\\mathbf{b_2} = \\begin{bmatrix} 1 \\\\ 3 \\end{bmatrix}$$  \n",
        "all written in the standard basis, what is **v** in the basis defined by **b1** and **b2**. You are given that **b1** and **b2** are orthogonal to each other."
      ],
      "metadata": {
        "id": "E-sR-bD_F0Ap"
      }
    },
    {
      "cell_type": "code",
      "source": [
        "v = np.array([2, 2])\n",
        "\n",
        "b1 = np.array([-3, 1])\n",
        "b2 = np.array([1, 3])\n",
        "\n",
        "new_b1 = get_new_basis(b1, v)\n",
        "new_b2 = get_new_basis(b2, v)\n",
        "\n",
        "print('Our new basis vector is:', np.array([new_b1, new_b2]).round(2))"
      ],
      "metadata": {
        "id": "-alCMYcCGEzm",
        "outputId": "c0d26598-0171-40f9-bf6b-dbed9077f27b",
        "colab": {
          "base_uri": "https://localhost:8080/"
        }
      },
      "execution_count": 4,
      "outputs": [
        {
          "output_type": "stream",
          "name": "stdout",
          "text": [
            "Our new basis vector is: [-0.4  0.8]\n"
          ]
        }
      ]
    },
    {
      "cell_type": "markdown",
      "source": [
        "Question 4  \n",
        "Given vectors $$\\mathbf{v} = \\begin{bmatrix} 1 \\\\ 1 \\\\ 1 \\end{bmatrix}$$  \n",
        "$$\\mathbf{b_1} = \\begin{bmatrix} 2 \\\\ 1 \\\\ 0 \\end{bmatrix}$$  \n",
        "$$\\mathbf{b_2} = \\begin{bmatrix} 1 \\\\ -2 \\\\ -1 \\end{bmatrix}$$\n",
        "and\n",
        "$$\\mathbf{b_3} = \\begin{bmatrix} -1 \\\\ 2 \\\\ -5 \\end{bmatrix}$$  \n",
        "all written in the standard basis, what is **v** in the basis defined by **b1**, **b2** and **b3**. You are given that **b1**, **b2** and **b3** are orthogonal to each other."
      ],
      "metadata": {
        "id": "Q_jDh6D3GaLS"
      }
    },
    {
      "cell_type": "code",
      "source": [
        "v = np.array([1, 1, 1])\n",
        "\n",
        "b1 = np.array([2, 1, 0])\n",
        "b2 = np.array([1, -2, -1])\n",
        "b3 = np.array([-1, 2, -5])\n",
        "\n",
        "new_b1 = get_new_basis(b1, v)\n",
        "new_b2 = get_new_basis(b2, v)\n",
        "new_b3 = get_new_basis(b3, v)\n",
        "\n",
        "print('Our new basis vector is:', np.array([new_b1, new_b2, new_b3]).round(2))"
      ],
      "metadata": {
        "id": "ItuFRoAKG7xH",
        "outputId": "57a06b5d-ff73-4bf5-f6b4-759c2e6cf221",
        "colab": {
          "base_uri": "https://localhost:8080/"
        }
      },
      "execution_count": 5,
      "outputs": [
        {
          "output_type": "stream",
          "name": "stdout",
          "text": [
            "Our new basis vector is: [ 0.6  -0.33 -0.13]\n"
          ]
        }
      ]
    },
    {
      "cell_type": "markdown",
      "source": [
        "Question 5  \n",
        "Given vectors $$\\mathbf{v} = \\begin{bmatrix} 1 \\\\ 1 \\\\ 2 \\\\ 3 \\end{bmatrix}$$  \n",
        "$$\\mathbf{b_1} = \\begin{bmatrix} 1 \\\\ 0 \\\\ 0 \\\\ 0 \\end{bmatrix}$$  \n",
        "$$\\mathbf{b_2} = \\begin{bmatrix} 0 \\\\ 2 \\\\ -1 \\\\ 0 \\end{bmatrix}$$\n",
        "$$\\mathbf{b_3} = \\begin{bmatrix} 0 \\\\  1 \\\\ 2 \\\\ 0 \\end{bmatrix}$$\n",
        "and\n",
        "$$\\mathbf{b_4} = \\begin{bmatrix} 0 \\\\  0 \\\\ 0 \\\\ 3 \\end{bmatrix}$$  \n",
        "all written in the standard basis, what is **v** in the basis defined by **b1**, **b2**, **b3** and **b4**. You are given that **b1**, **b2**, **b3** and **b4** are orthogonal to each other."
      ],
      "metadata": {
        "id": "_Ihr6kSBH61f"
      }
    },
    {
      "cell_type": "code",
      "source": [
        "v = np.array([1, 1, 2, 3])\n",
        "\n",
        "b1 = np.array([1, 0, 0, 0])\n",
        "b2 = np.array([0, 2, -1, 0])\n",
        "b3 = np.array([0, 1, 2, 0])\n",
        "b4 = np.array([0, 0, 0, 3])\n",
        "\n",
        "new_b1 = get_new_basis(b1, v)\n",
        "new_b2 = get_new_basis(b2, v)\n",
        "new_b3 = get_new_basis(b3, v)\n",
        "new_b4 = get_new_basis(b4, v)\n",
        "\n",
        "print('Our new basis vector is:', np.array([new_b1, new_b2, new_b3, new_b4]).round(2))"
      ],
      "metadata": {
        "id": "AhVc5MXpH7Og",
        "outputId": "cac762ec-e50d-4206-ed90-ec23d1f68799",
        "colab": {
          "base_uri": "https://localhost:8080/"
        }
      },
      "execution_count": 6,
      "outputs": [
        {
          "output_type": "stream",
          "name": "stdout",
          "text": [
            "Our new basis vector is: [1. 0. 1. 1.]\n"
          ]
        }
      ]
    }
  ]
}