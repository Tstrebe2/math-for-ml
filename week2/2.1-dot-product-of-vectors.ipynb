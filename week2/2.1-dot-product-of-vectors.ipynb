{
  "cells": [
    {
      "cell_type": "markdown",
      "metadata": {
        "id": "view-in-github",
        "colab_type": "text"
      },
      "source": [
        "<a href=\"https://colab.research.google.com/github/Tstrebe2/math-for-ml/blob/main/week2/2.1-dot-product-of-vectors.ipynb\" target=\"_parent\"><img src=\"https://colab.research.google.com/assets/colab-badge.svg\" alt=\"Open In Colab\"/></a>"
      ]
    },
    {
      "cell_type": "code",
      "source": [
        "import numpy as np"
      ],
      "metadata": {
        "id": "RaWgJ9BTaELJ"
      },
      "execution_count": null,
      "outputs": []
    },
    {
      "cell_type": "markdown",
      "source": [
        "Question 1  \n",
        "As we have seen in the lecture videos, the dot product of vectors has a lot of applications. Here, you will complete some exercises involving the dot product.\n",
        "\n",
        "We have seen that the size of a vector with two components is calculated using Pythagoras' theorem, for example the following diagram shows how we calculate the size of the orange vector $$\\mathbf{r} = \\begin{bmatrix} r_1 \\\\ r_2 \\end{bmatrix}$$\n",
        "\n",
        "In fact, this definition can be extended to any number of dimensions; the size of a vector is the square root of the sum of the squares of its components. Using this information, what is the size of the vector $$\\mathbf{s} = \\begin{bmatrix} 1 \\\\ 3 \\\\ 4 \\\\ 2 \\end{bmatrix}?$$"
      ],
      "metadata": {
        "id": "N__kjyNtbVWF"
      }
    },
    {
      "cell_type": "code",
      "source": [
        "def mod(v):\n",
        "  '''\n",
        "  Returns the length of a vector. This is sometimes referred to as the\n",
        "  modulus, mod, or magnitude as well.\n",
        "  params\n",
        "    v: a vector of type np.array\n",
        "  '''\n",
        "  return np.sqrt(np.sum(v**2))\n",
        "\n",
        "r = np.array([1, 3, 4, 2])\n",
        "\n",
        "mod(r)"
      ],
      "metadata": {
        "id": "KKMmiz7ESfI-",
        "outputId": "71dd9f3a-f9bd-49c2-be74-f3f4288973b4",
        "colab": {
          "base_uri": "https://localhost:8080/"
        }
      },
      "execution_count": 21,
      "outputs": [
        {
          "output_type": "execute_result",
          "data": {
            "text/plain": [
              "30.0"
            ]
          },
          "metadata": {},
          "execution_count": 21
        }
      ]
    },
    {
      "cell_type": "markdown",
      "source": [
        "Question 2  \n",
        "Remember the definition of the dot product from the videos. For two n component vectors, $$\\mathbf{a}\\cdot\\mathbf{b} = a_1b_1 + a_2b_2 + \\dots + a_nb_na⋅b=a$$\n",
        "\n",
        "What is the dot product of the vectors $$\\mathbf{r} = \\begin{bmatrix} -5 \\\\ 3 \\\\ 2 \\\\ 8 \\end{bmatrix}$$ and $$\\mathbf{s} = \\begin{bmatrix} 1 \\\\ 2 \\\\ -1 \\\\ 0 \\end{bmatrix}?$$"
      ],
      "metadata": {
        "id": "hdOFZImTcA3v"
      }
    },
    {
      "cell_type": "code",
      "source": [
        "r = np.array([-5, 3, 2, 8])\n",
        "s = np.array([1, 2, -1, 0])\n",
        "\n",
        "r @ s"
      ],
      "metadata": {
        "id": "HsGZ2mf3S0Hy",
        "outputId": "454fdef1-bb69-4dc5-bf84-e254e89f0a5a",
        "colab": {
          "base_uri": "https://localhost:8080/"
        }
      },
      "execution_count": 3,
      "outputs": [
        {
          "output_type": "execute_result",
          "data": {
            "text/plain": [
              "-1"
            ]
          },
          "metadata": {},
          "execution_count": 3
        }
      ]
    },
    {
      "cell_type": "markdown",
      "source": [
        "Question 3  \n",
        "The lectures introduced the idea of projecting one vector onto another. The following diagram shows the projection of $$\\mathbf{s}$$ onto $$\\mathbf{r}$$ when the vectors are in two dimensions:\n",
        "\n",
        "Remember that the scalar projection is the size of the green vector. If the angle between \\mathbf{s}s and \\mathbf{r}r is greater than \\pi/2π/2, the projection will also have a minus sign.\n",
        "\n",
        "We can do projection in any number of dimensions. Consider two vectors with three components, $$\\mathbf{r} = \\begin{bmatrix} 3 \\\\ -4 \\\\ 0 \\end{bmatrix}$$ and  $$\\mathbf{s} = \\begin{bmatrix} 10 \\\\ 5 \\\\ -6 \\end{bmatrix}$$ What is the scalar projection of s onto r?"
      ],
      "metadata": {
        "id": "f9c5mf8Pc_cn"
      }
    },
    {
      "cell_type": "code",
      "source": [
        "r = np.array([3, -4, 0])\n",
        "s = np.array([10, 5, -6])\n",
        "\n",
        "r @ s / mod(r)"
      ],
      "metadata": {
        "id": "63VOIgbOeMJM",
        "outputId": "b0695318-5f67-41d7-b72e-bfd666a2833a",
        "colab": {
          "base_uri": "https://localhost:8080/"
        }
      },
      "execution_count": 22,
      "outputs": [
        {
          "output_type": "execute_result",
          "data": {
            "text/plain": [
              "2.0"
            ]
          },
          "metadata": {},
          "execution_count": 22
        }
      ]
    },
    {
      "cell_type": "markdown",
      "source": [
        "Question 4  \n",
        "Remember that in the projection diagram, the vector projection is the green vector:  \n",
        "Let $$\\mathbf{r} = \\begin{bmatrix} 3 \\\\ -4 \\\\ 0 \\end{bmatrix}$$ and let $$\\mathbf{s} = \\begin{bmatrix} 10 \\\\ 5 \\\\ -6 \\end{bmatrix}$$ What is the vector projection of s onto r?"
      ],
      "metadata": {
        "id": "LoiiwZMGeZCP"
      }
    },
    {
      "cell_type": "code",
      "source": [
        "(r @ s / mod(r)**2) * r"
      ],
      "metadata": {
        "id": "lMS1rNUlTJ0p",
        "outputId": "16bd7358-c831-4f50-dcf6-04bd6a6d97f6",
        "colab": {
          "base_uri": "https://localhost:8080/"
        }
      },
      "execution_count": 11,
      "outputs": [
        {
          "output_type": "execute_result",
          "data": {
            "text/plain": [
              "array([ 1.2, -1.6,  0. ])"
            ]
          },
          "metadata": {},
          "execution_count": 11
        }
      ]
    },
    {
      "cell_type": "markdown",
      "source": [
        "Question 5  \n",
        "Let $$\\mathbf{a} = \\begin{bmatrix} 3 \\\\ 0 \\\\ 4 \\end{bmatrix}$$ and $$\\mathbf{b} = \\begin{bmatrix} 0 \\\\ 5 \\\\ 12 \\end{bmatrix}$$\n",
        "  Which is larger, $$|\\mathbf{a} + \\mathbf{b}|∣a+b∣$$ or $$|\\mathbf{a}| + |\\mathbf{b}|∣a∣+∣b∣?$$"
      ],
      "metadata": {
        "id": "ukW2C3Bdew2Y"
      }
    },
    {
      "cell_type": "code",
      "source": [
        "a = np.array([3, 0, 4])\n",
        "b = np.array([0, 5, 12])\n",
        "\n",
        "mod(a + b) < (mod(a) + mod(b))"
      ],
      "metadata": {
        "id": "Yvg25CrGWIUF",
        "outputId": "9308b930-cd8b-42bc-e4f3-55b820b00a21",
        "colab": {
          "base_uri": "https://localhost:8080/"
        }
      },
      "execution_count": 23,
      "outputs": [
        {
          "output_type": "execute_result",
          "data": {
            "text/plain": [
              "True"
            ]
          },
          "metadata": {},
          "execution_count": 23
        }
      ]
    }
  ],
  "metadata": {
    "colab": {
      "name": "Welcome To Colaboratory",
      "toc_visible": true,
      "provenance": [],
      "include_colab_link": true
    },
    "kernelspec": {
      "display_name": "Python 3",
      "name": "python3"
    }
  },
  "nbformat": 4,
  "nbformat_minor": 0
}